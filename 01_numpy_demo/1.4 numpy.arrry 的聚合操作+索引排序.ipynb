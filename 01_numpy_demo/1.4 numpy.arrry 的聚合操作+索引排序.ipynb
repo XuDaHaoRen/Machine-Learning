{
 "cells": [
  {
   "cell_type": "markdown",
   "metadata": {},
   "source": [
    "### 1.聚合操作"
   ]
  },
  {
   "cell_type": "code",
   "execution_count": 27,
   "metadata": {},
   "outputs": [
    {
     "data": {
      "text/plain": [
       "array([0.35938019, 0.56705784, 0.38733912, 0.66012711, 0.74810803,\n",
       "       0.08999572, 0.47644837, 0.22204071, 0.72612778, 0.74907655,\n",
       "       0.58706124, 0.77728253, 0.77858846, 0.45435214, 0.90031379,\n",
       "       0.1993901 , 0.38167708, 0.31628356, 0.19268336, 0.84495094,\n",
       "       0.04029661, 0.968459  , 0.80278556, 0.28868632, 0.26861184,\n",
       "       0.35789595, 0.80354061, 0.54087299, 0.020366  , 0.24760215,\n",
       "       0.10851367, 0.02302548, 0.65432287, 0.3462665 , 0.5212793 ,\n",
       "       0.28409364, 0.14597225, 0.1067902 , 0.84661628, 0.64450868,\n",
       "       0.3857967 , 0.50147734, 0.82368271, 0.35004001, 0.78211062,\n",
       "       0.87285454, 0.27546079, 0.85624158, 0.65406441, 0.46467212,\n",
       "       0.32639712, 0.21543474, 0.49706914, 0.60493753, 0.25133727,\n",
       "       0.77828149, 0.90327088, 0.05485408, 0.21230335, 0.27321936,\n",
       "       0.45862027, 0.61222421, 0.80190792, 0.28622816, 0.12664262,\n",
       "       0.95177738, 0.3766733 , 0.63105297, 0.75181382, 0.52832553,\n",
       "       0.83928511, 0.9011959 , 0.96552508, 0.73430454, 0.3756341 ,\n",
       "       0.82169189, 0.62618885, 0.48665911, 0.69941659, 0.17844262,\n",
       "       0.35216612, 0.30288433, 0.39941484, 0.07711715, 0.44085637,\n",
       "       0.755062  , 0.48853267, 0.39621318, 0.78357233, 0.68705902,\n",
       "       0.66628729, 0.13120866, 0.03456083, 0.09097495, 0.77778411,\n",
       "       0.57340013, 0.35359809, 0.94918862, 0.48155654, 0.42895075])"
      ]
     },
     "execution_count": 27,
     "metadata": {},
     "output_type": "execute_result"
    }
   ],
   "source": [
    "import numpy as np\n",
    "L = np.random.random(100)\n",
    "L"
   ]
  },
  {
   "cell_type": "code",
   "execution_count": 28,
   "metadata": {},
   "outputs": [
    {
     "data": {
      "text/plain": [
       "49.84629429433223"
      ]
     },
     "execution_count": 28,
     "metadata": {},
     "output_type": "execute_result"
    }
   ],
   "source": [
    "#1.计算矩阵中数值的和\n",
    "np.sum(L)"
   ]
  },
  {
   "cell_type": "code",
   "execution_count": 29,
   "metadata": {},
   "outputs": [
    {
     "data": {
      "text/plain": [
       "0.020366002750422663"
      ]
     },
     "execution_count": 29,
     "metadata": {},
     "output_type": "execute_result"
    }
   ],
   "source": [
    "#2.求一组数的最小值/最小值的两种方法\n",
    "#很多聚合方法都可以用面向对象 . 的方法进行操作，但是更常用第二个方法用的更多\n",
    "#对象 . 的方法是会改变值的，但是用 np 的方法是不会改变值的\n",
    "np.min(L)\n",
    "L.min()"
   ]
  },
  {
   "cell_type": "code",
   "execution_count": 30,
   "metadata": {},
   "outputs": [
    {
     "data": {
      "text/plain": [
       "array([[ 0,  1,  2,  3],\n",
       "       [ 4,  5,  6,  7],\n",
       "       [ 8,  9, 10, 11],\n",
       "       [12, 13, 14, 15]])"
      ]
     },
     "execution_count": 30,
     "metadata": {},
     "output_type": "execute_result"
    }
   ],
   "source": [
    "#3.对于二维数组的聚合运算\n",
    "X = np.arange(16).reshape(4,4)\n",
    "X"
   ]
  },
  {
   "cell_type": "code",
   "execution_count": 31,
   "metadata": {},
   "outputs": [
    {
     "data": {
      "text/plain": [
       "120"
      ]
     },
     "execution_count": 31,
     "metadata": {},
     "output_type": "execute_result"
    }
   ],
   "source": [
    "# 1.将二维数组所有数求和\n",
    "np.sum(X)"
   ]
  },
  {
   "cell_type": "code",
   "execution_count": 32,
   "metadata": {},
   "outputs": [
    {
     "data": {
      "text/plain": [
       "array([24, 28, 32, 36])"
      ]
     },
     "execution_count": 32,
     "metadata": {},
     "output_type": "execute_result"
    }
   ],
   "source": [
    "#2.将矩阵转换成一个个的列向量组成为单位求和\n",
    "#这时矩阵是一行\n",
    "np.sum(X,axis=0)"
   ]
  },
  {
   "cell_type": "code",
   "execution_count": 33,
   "metadata": {},
   "outputs": [
    {
     "data": {
      "text/plain": [
       "array([ 6, 22, 38, 54])"
      ]
     },
     "execution_count": 33,
     "metadata": {},
     "output_type": "execute_result"
    }
   ],
   "source": [
    "#2.将矩阵转换成一个个的行向量组成为单位求和\n",
    "#这时矩阵是一列\n",
    "np.sum(X,axis=1)"
   ]
  },
  {
   "cell_type": "code",
   "execution_count": 34,
   "metadata": {},
   "outputs": [
    {
     "data": {
      "text/plain": [
       "20922789888000"
      ]
     },
     "execution_count": 34,
     "metadata": {},
     "output_type": "execute_result"
    }
   ],
   "source": [
    "#3.先将矩阵中每个数+1再求每个元素之间的相乘\n",
    "np.prod(X+1)"
   ]
  },
  {
   "cell_type": "code",
   "execution_count": 35,
   "metadata": {},
   "outputs": [
    {
     "data": {
      "text/plain": [
       "7.5"
      ]
     },
     "execution_count": 35,
     "metadata": {},
     "output_type": "execute_result"
    }
   ],
   "source": [
    "#4.求平均值\n",
    "np.mean(X)"
   ]
  },
  {
   "cell_type": "code",
   "execution_count": 36,
   "metadata": {},
   "outputs": [
    {
     "data": {
      "text/plain": [
       "7.5"
      ]
     },
     "execution_count": 36,
     "metadata": {},
     "output_type": "execute_result"
    }
   ],
   "source": [
    "#5.求中位数\n",
    "np.median(X)"
   ]
  },
  {
   "cell_type": "code",
   "execution_count": 37,
   "metadata": {},
   "outputs": [
    {
     "data": {
      "text/plain": [
       "7.5"
      ]
     },
     "execution_count": 37,
     "metadata": {},
     "output_type": "execute_result"
    }
   ],
   "source": [
    "#4.百分数的使用，这个数组中 百分之 q 的值都比结果小\n",
    "#X 数组中 50% 的数都比结果小\n",
    "np.percentile(X,q=50)"
   ]
  },
  {
   "cell_type": "code",
   "execution_count": 40,
   "metadata": {},
   "outputs": [
    {
     "name": "stdout",
     "output_type": "stream",
     "text": [
      "0.0\n",
      "3.75\n",
      "7.5\n",
      "11.25\n",
      "15.0\n"
     ]
    }
   ],
   "source": [
    "# 用 for 循环分别求出 25%的水平，50%的水平,75%,100%d的水平\n",
    "for percent in [0,25,50,75,100]:\n",
    "    print(np.percentile(X,q=percent))"
   ]
  },
  {
   "cell_type": "code",
   "execution_count": 47,
   "metadata": {},
   "outputs": [
    {
     "data": {
      "text/plain": [
       "array([ 1.71500891,  0.09521813, -0.14494112,  0.9041468 , -0.01573423,\n",
       "       -1.68164843,  1.71593035,  1.27273553,  0.42624609, -0.70885424])"
      ]
     },
     "execution_count": 47,
     "metadata": {},
     "output_type": "execute_result"
    }
   ],
   "source": [
    "#定义一个符合正态分布的随机数\n",
    "x = np.random.normal(0,1,size=10)\n",
    "x"
   ]
  },
  {
   "cell_type": "code",
   "execution_count": 48,
   "metadata": {
    "scrolled": true
   },
   "outputs": [
    {
     "data": {
      "text/plain": [
       "1.0585147650709512"
      ]
     },
     "execution_count": 48,
     "metadata": {},
     "output_type": "execute_result"
    }
   ],
   "source": [
    "#5.求方差（方差接近于 1）\n",
    "np.var(x)"
   ]
  },
  {
   "cell_type": "code",
   "execution_count": 50,
   "metadata": {
    "scrolled": true
   },
   "outputs": [
    {
     "data": {
      "text/plain": [
       "1.0288414674141741"
      ]
     },
     "execution_count": 50,
     "metadata": {},
     "output_type": "execute_result"
    }
   ],
   "source": [
    "#6.标准差(标准差接近于1)\n",
    "np.std(x)"
   ]
  },
  {
   "cell_type": "markdown",
   "metadata": {},
   "source": [
    "### 2.索引操作"
   ]
  },
  {
   "cell_type": "code",
   "execution_count": 51,
   "metadata": {},
   "outputs": [
    {
     "data": {
      "text/plain": [
       "-1.68164843227183"
      ]
     },
     "execution_count": 51,
     "metadata": {},
     "output_type": "execute_result"
    }
   ],
   "source": [
    "# 1.找到最小值/最大值\n",
    "np.min(x)"
   ]
  },
  {
   "cell_type": "code",
   "execution_count": 54,
   "metadata": {},
   "outputs": [
    {
     "data": {
      "text/plain": [
       "5"
      ]
     },
     "execution_count": 54,
     "metadata": {},
     "output_type": "execute_result"
    }
   ],
   "source": [
    "# 索引到最小值的下标\n",
    "np.argmin(x)"
   ]
  },
  {
   "cell_type": "code",
   "execution_count": 55,
   "metadata": {},
   "outputs": [
    {
     "data": {
      "text/plain": [
       "-1.68164843227183"
      ]
     },
     "execution_count": 55,
     "metadata": {},
     "output_type": "execute_result"
    }
   ],
   "source": [
    "# 从输出结果来看，下标为 5 的就是最小值\n",
    "x[5]"
   ]
  },
  {
   "cell_type": "markdown",
   "metadata": {},
   "source": [
    "### 3.排序和使用索引"
   ]
  },
  {
   "cell_type": "code",
   "execution_count": 56,
   "metadata": {},
   "outputs": [
    {
     "data": {
      "text/plain": [
       "array([ 0,  1,  2,  3,  4,  5,  6,  7,  8,  9, 10, 11, 12, 13, 14, 15])"
      ]
     },
     "execution_count": 56,
     "metadata": {},
     "output_type": "execute_result"
    }
   ],
   "source": [
    "x = np.arange(16)\n",
    "x"
   ]
  },
  {
   "cell_type": "code",
   "execution_count": 72,
   "metadata": {},
   "outputs": [
    {
     "data": {
      "text/plain": [
       "array([15,  4,  6, 10, 14,  5,  1,  8,  2,  9,  0,  7,  3, 12, 13, 11])"
      ]
     },
     "execution_count": 72,
     "metadata": {},
     "output_type": "execute_result"
    }
   ],
   "source": [
    "# 先对 x 进行乱序处理\n",
    "np.random.shuffle(x)\n",
    "x"
   ]
  },
  {
   "cell_type": "code",
   "execution_count": 73,
   "metadata": {},
   "outputs": [
    {
     "data": {
      "text/plain": [
       "array([ 0,  1,  2,  3,  4,  5,  6,  7,  8,  9, 10, 11, 12, 13, 14, 15])"
      ]
     },
     "execution_count": 73,
     "metadata": {},
     "output_type": "execute_result"
    }
   ],
   "source": [
    "# 1.对 x (一维)进行排序\n",
    "np.sort(x)"
   ]
  },
  {
   "cell_type": "code",
   "execution_count": 69,
   "metadata": {},
   "outputs": [
    {
     "data": {
      "text/plain": [
       "array([[ 7,  6,  5,  7],\n",
       "       [ 3,  2, 12,  5],\n",
       "       [12,  7, 10, 11],\n",
       "       [14,  0,  0,  0]])"
      ]
     },
     "execution_count": 69,
     "metadata": {},
     "output_type": "execute_result"
    }
   ],
   "source": [
    "#2.声明一个随机的二维数组，对其进行排序\n",
    "X = np.random.randint(16,size=(4,4))\n",
    "X"
   ]
  },
  {
   "cell_type": "code",
   "execution_count": 70,
   "metadata": {},
   "outputs": [
    {
     "data": {
      "text/plain": [
       "array([[ 5,  6,  7,  7],\n",
       "       [ 2,  3,  5, 12],\n",
       "       [ 7, 10, 11, 12],\n",
       "       [ 0,  0,  0, 14]])"
      ]
     },
     "execution_count": 70,
     "metadata": {},
     "output_type": "execute_result"
    }
   ],
   "source": [
    "# 内部其实是将二维数组的每一行进行了排序，axis这里的默认值是1\n",
    "np.sort(X)"
   ]
  },
  {
   "cell_type": "code",
   "execution_count": 74,
   "metadata": {},
   "outputs": [
    {
     "data": {
      "text/plain": [
       "array([10,  6,  8, 12,  1,  5,  2, 11,  7,  9,  3, 15, 13, 14,  4,  0])"
      ]
     },
     "execution_count": 74,
     "metadata": {},
     "output_type": "execute_result"
    }
   ],
   "source": [
    "#3.索引和排序相结合。显示的结果x[0]为 :数组中最小的元素的下标值\n",
    "np.argsort(x)"
   ]
  },
  {
   "cell_type": "code",
   "execution_count": 75,
   "metadata": {},
   "outputs": [
    {
     "data": {
      "text/plain": [
       "array([ 0,  1,  2,  3,  4,  5,  8, 10,  6,  9,  7, 11, 14, 12, 13, 15])"
      ]
     },
     "execution_count": 75,
     "metadata": {},
     "output_type": "execute_result"
    }
   ],
   "source": [
    "# 4.模拟一趟快速排序，第二个参数是以哪个数为基准，左边是比他小的值，右边是比他大得值\n",
    "np.partition(x,3)"
   ]
  },
  {
   "cell_type": "code",
   "execution_count": 77,
   "metadata": {},
   "outputs": [
    {
     "data": {
      "text/plain": [
       "array([10,  6,  8, 12,  1,  5,  7,  3,  2,  9, 11, 15,  4, 13, 14,  0])"
      ]
     },
     "execution_count": 77,
     "metadata": {},
     "output_type": "execute_result"
    }
   ],
   "source": [
    "# 在索引的情况下进行一次快排\n",
    "np.argpartition(x,3)"
   ]
  }
 ],
 "metadata": {
  "kernelspec": {
   "display_name": "Python 3",
   "language": "python",
   "name": "python3"
  },
  "language_info": {
   "codemirror_mode": {
    "name": "ipython",
    "version": 3
   },
   "file_extension": ".py",
   "mimetype": "text/x-python",
   "name": "python",
   "nbconvert_exporter": "python",
   "pygments_lexer": "ipython3",
   "version": "3.7.4"
  }
 },
 "nbformat": 4,
 "nbformat_minor": 2
}
