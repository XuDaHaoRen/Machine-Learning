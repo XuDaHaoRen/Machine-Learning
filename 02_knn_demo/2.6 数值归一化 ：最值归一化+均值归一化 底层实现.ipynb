{
 "cells": [
  {
   "cell_type": "markdown",
   "metadata": {},
   "source": [
    "### 数值归一化\n",
    "经常会遇到，有两个样本，特征1分别为：1, 5 ；特征2:100,200 ；当在计算距离的时候两个数值差距较大，就算出来的模型也会不准确，于是就将数据归一化\n",
    "    归一化的方式有两种：最值归一化；均值归一化。这样可以讲所有属性的数值确定在 0-1 之间左右\n",
    "    具体的介看：https://blog.csdn.net/haoji007/article/details/81157224"
   ]
  },
  {
   "cell_type": "code",
   "execution_count": 1,
   "metadata": {},
   "outputs": [],
   "source": [
    "import numpy as np\n",
    "import matplotlib.pyplot as plt"
   ]
  },
  {
   "cell_type": "markdown",
   "metadata": {},
   "source": [
    "### 最值归一化"
   ]
  },
  {
   "cell_type": "code",
   "execution_count": 2,
   "metadata": {},
   "outputs": [],
   "source": [
    "#1. 将一维数据归一化\n",
    "x = np.random.randint(0,100,100)"
   ]
  },
  {
   "cell_type": "code",
   "execution_count": 3,
   "metadata": {},
   "outputs": [
    {
     "data": {
      "text/plain": [
       "array([0.35714286, 0.25510204, 0.        , 0.24489796, 0.08163265,\n",
       "       0.06122449, 0.15306122, 0.68367347, 1.        , 0.8877551 ,\n",
       "       0.97959184, 0.37755102, 0.97959184, 0.96938776, 0.08163265,\n",
       "       0.76530612, 0.66326531, 0.64285714, 0.08163265, 0.33673469,\n",
       "       0.57142857, 0.76530612, 0.45918367, 0.65306122, 0.43877551,\n",
       "       0.3877551 , 0.6122449 , 0.90816327, 0.55102041, 0.67346939,\n",
       "       0.08163265, 0.06122449, 0.79591837, 0.30612245, 0.87755102,\n",
       "       0.7244898 , 0.7244898 , 0.53061224, 0.53061224, 0.75510204,\n",
       "       0.6122449 , 0.78571429, 0.89795918, 0.35714286, 0.65306122,\n",
       "       0.14285714, 0.41836735, 0.7755102 , 0.63265306, 0.21428571,\n",
       "       0.36734694, 0.45918367, 0.31632653, 0.81632653, 0.43877551,\n",
       "       0.20408163, 0.33673469, 0.82653061, 0.54081633, 0.25510204,\n",
       "       0.05102041, 0.13265306, 0.53061224, 0.59183673, 0.85714286,\n",
       "       0.89795918, 0.19387755, 0.55102041, 0.41836735, 0.7244898 ,\n",
       "       0.28571429, 0.47959184, 0.13265306, 0.92857143, 0.89795918,\n",
       "       0.15306122, 0.1122449 , 0.15306122, 0.19387755, 0.29591837,\n",
       "       0.08163265, 1.        , 0.33673469, 0.17346939, 0.05102041,\n",
       "       0.94897959, 0.62244898, 0.14285714, 0.79591837, 0.62244898,\n",
       "       0.76530612, 0.56122449, 1.        , 0.14285714, 0.2755102 ,\n",
       "       0.12244898, 0.25510204, 0.83673469, 0.16326531, 0.21428571])"
      ]
     },
     "execution_count": 3,
     "metadata": {},
     "output_type": "execute_result"
    }
   ],
   "source": [
    "x = (x-np.min(x))/(np.max(x)-np.min(x))\n",
    "x"
   ]
  },
  {
   "cell_type": "code",
   "execution_count": 4,
   "metadata": {},
   "outputs": [],
   "source": [
    "#2.将矩阵归一化\n",
    "X = np.random.randint(0,100,size = (50,20))"
   ]
  },
  {
   "cell_type": "code",
   "execution_count": 5,
   "metadata": {},
   "outputs": [],
   "source": [
    "# X 用上面的方法创建创建的为整数类型，但是如果将数据归一化要先将X 转为 float\n",
    "X = np.array(X,dtype = float)"
   ]
  },
  {
   "cell_type": "code",
   "execution_count": 6,
   "metadata": {},
   "outputs": [],
   "source": [
    "# 3.将特征进行最值归一化,主要是将每一列的数进行操作\n",
    "for i in range (2):\n",
    "    X[:,i] = (X[:,i]-np.min(X[:,i]))/(np.max(X[:,i])-np.min(X[:,i]))"
   ]
  },
  {
   "cell_type": "code",
   "execution_count": 7,
   "metadata": {},
   "outputs": [
    {
     "data": {
      "text/plain": [
       "<matplotlib.collections.PathCollection at 0x7f5ab4655b10>"
      ]
     },
     "execution_count": 7,
     "metadata": {},
     "output_type": "execute_result"
    },
    {
     "data": {
      "image/png": "[encoded data removed]",
      "text/plain": [
       "<Figure size 432x288 with 1 Axes>"
      ]
     },
     "metadata": {
      "needs_background": "light"
     },
     "output_type": "display_data"
    }
   ],
   "source": [
    "# 4.将归一化后的结果以点图显示\n",
    "plt.scatter(X[:,0],X[:,1])"
   ]
  },
  {
   "cell_type": "code",
   "execution_count": 8,
   "metadata": {},
   "outputs": [
    {
     "data": {
      "text/plain": [
       "0.4955555555555556"
      ]
     },
     "execution_count": 8,
     "metadata": {},
     "output_type": "execute_result"
    }
   ],
   "source": [
    "# 5.查看第0列对应的平均值和方差\n",
    "np.mean(X[:,0])"
   ]
  },
  {
   "cell_type": "code",
   "execution_count": 9,
   "metadata": {},
   "outputs": [
    {
     "data": {
      "text/plain": [
       "0.2878360115778749"
      ]
     },
     "execution_count": 9,
     "metadata": {},
     "output_type": "execute_result"
    }
   ],
   "source": [
    "np.std(X[:,1])"
   ]
  },
  {
   "cell_type": "markdown",
   "metadata": {},
   "source": [
    "### 均值归一化"
   ]
  },
  {
   "cell_type": "code",
   "execution_count": 24,
   "metadata": {},
   "outputs": [],
   "source": [
    "# 1.定义一个矩阵\n",
    "X2 = np.random.randint(0,100,(50,2))   \n",
    "X2 = np.array(X2,dtype=float)\n",
    "X2"
   ]
  },
  {
   "cell_type": "code",
   "execution_count": 26,
   "metadata": {},
   "outputs": [],
   "source": [
    "# 2.均值归一化的处理\n",
    "X2[:,0] = (X2[:,0] - np.mean(X2[:,0])) / np.std(X2[:,0])\n",
    "X2[:,1] = (X2[:,1] - np.mean(X2[:,1])) / np.std(X2[:,1])\n",
    "X2"
   ]
  },
  {
   "cell_type": "code",
   "execution_count": 28,
   "metadata": {},
   "outputs": [
    {
     "data": {
      "text/plain": [
       "<matplotlib.collections.PathCollection at 0x7f5ab2032dd0>"
      ]
     },
     "execution_count": 28,
     "metadata": {},
     "output_type": "execute_result"
    },
    {
     "data": {
      "image/png": "[encoded data removed]",
      "text/plain": [
       "<Figure size 432x288 with 1 Axes>"
      ]
     },
     "metadata": {
      "needs_background": "light"
     },
     "output_type": "display_data"
    }
   ],
   "source": [
    "#3.用散点图显示数据\n",
    "plt.scatter(X2[:,0],X2[:,1])"
   ]
  },
  {
   "cell_type": "code",
   "execution_count": 33,
   "metadata": {},
   "outputs": [
    {
     "name": "stdout",
     "output_type": "stream",
     "text": [
      "mean:-1.3322676295501878e-17\n",
      "std:1.0000000000000002\n"
     ]
    }
   ],
   "source": [
    "# 4.用这种方法求出的 平均值为 0，方差为 1(以 特征0 为例)\n",
    "print(\"mean:\"+str(np.mean(X2[:,0])))\n",
    "print(\"std:\"+str(np.std(X2[:,0])))"
   ]
  }
 ],
 "metadata": {
  "kernelspec": {
   "display_name": "Python 3",
   "language": "python",
   "name": "python3"
  },
  "language_info": {
   "codemirror_mode": {
    "name": "ipython",
    "version": 3
   },
   "file_extension": ".py",
   "mimetype": "text/x-python",
   "name": "python",
   "nbconvert_exporter": "python",
   "pygments_lexer": "ipython3",
   "version": "3.7.4"
  }
 },
 "nbformat": 4,
 "nbformat_minor": 2
}
