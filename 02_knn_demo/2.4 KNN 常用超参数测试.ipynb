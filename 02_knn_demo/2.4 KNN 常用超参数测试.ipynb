{
 "cells": [
  {
   "cell_type": "markdown",
   "metadata": {},
   "source": [
    "### 超参数"
   ]
  },
  {
   "cell_type": "code",
   "execution_count": 6,
   "metadata": {},
   "outputs": [],
   "source": [
    "import numpy as np\n",
    "from sklearn.neighbors import KNeighborsClassifier\n",
    "from sklearn.model_selection import train_test_split\n",
    "from sklearn import datasets\n",
    "from sklearn.metrics import accuracy_score"
   ]
  },
  {
   "cell_type": "code",
   "execution_count": 16,
   "metadata": {},
   "outputs": [],
   "source": [
    "# 加载数据\n",
    "digits = datasets.load_digits()\n",
    "X = digits.data\n",
    "y = digits.target"
   ]
  },
  {
   "cell_type": "code",
   "execution_count": 22,
   "metadata": {},
   "outputs": [],
   "source": [
    "X_train,X_test,y_train,y_test = train_test_split(X,y)"
   ]
  },
  {
   "cell_type": "code",
   "execution_count": 20,
   "metadata": {},
   "outputs": [],
   "source": [
    "knn_clf = KNeighborsClassifier(n_neighbors=6)"
   ]
  },
  {
   "cell_type": "code",
   "execution_count": 23,
   "metadata": {},
   "outputs": [
    {
     "data": {
      "text/plain": [
       "KNeighborsClassifier(algorithm='auto', leaf_size=30, metric='minkowski',\n",
       "                     metric_params=None, n_jobs=None, n_neighbors=6, p=2,\n",
       "                     weights='uniform')"
      ]
     },
     "execution_count": 23,
     "metadata": {},
     "output_type": "execute_result"
    }
   ],
   "source": [
    "knn_clf.fit(X_train,y_train)"
   ]
  },
  {
   "cell_type": "code",
   "execution_count": 24,
   "metadata": {},
   "outputs": [
    {
     "data": {
      "text/plain": [
       "0.9866666666666667"
      ]
     },
     "execution_count": 24,
     "metadata": {},
     "output_type": "execute_result"
    }
   ],
   "source": [
    "knn_clf.score(X_test,y_test)"
   ]
  },
  {
   "cell_type": "markdown",
   "metadata": {},
   "source": [
    "### 超参数\n",
    "\n",
    "参数 k 表示所依据的周围的点的个数，不同的点的个数对于结果的判定是不一样的，所以要寻找最优的那个参数就是超参数"
   ]
  },
  {
   "cell_type": "markdown",
   "metadata": {},
   "source": [
    "### 寻找最好的参数 k"
   ]
  },
  {
   "cell_type": "code",
   "execution_count": 32,
   "metadata": {},
   "outputs": [
    {
     "name": "stdout",
     "output_type": "stream",
     "text": [
      "0.9911111111111112\n",
      "0.9866666666666667\n",
      "0.9888888888888889\n",
      "0.9866666666666667\n",
      "best_k:1\n",
      "best_score:0.9911111111111112\n"
     ]
    }
   ],
   "source": [
    "best_k=0\n",
    "best_score=0.0\n",
    "# 运用 for 循环判断哪个 k 是最好的\n",
    "for i in range(1,5):\n",
    "    knn_clf = KNeighborsClassifier(n_neighbors=i)\n",
    "    knn_clf.fit(X_train,y_train)\n",
    "    score = knn_clf.score(X_test,y_test)\n",
    "    print(str(score))\n",
    "    if score > best_score:\n",
    "        best_score = score\n",
    "        best_k = i\n",
    "print(\"best_k:\"+str(best_k))\n",
    "print(\"best_score:\" + str(best_score))"
   ]
  },
  {
   "cell_type": "markdown",
   "metadata": {},
   "source": [
    "### 第二个参数：距离参数 weight\n",
    "使得距离预测点距离近的点在结果的预测中占得比重更大"
   ]
  },
  {
   "cell_type": "code",
   "execution_count": 39,
   "metadata": {},
   "outputs": [
    {
     "name": "stdout",
     "output_type": "stream",
     "text": [
      "0.9911111111111112\n",
      "0.9911111111111112\n",
      "0.9866666666666667\n",
      "0.9888888888888889\n",
      "0.9911111111111112\n",
      "0.9866666666666667\n",
      "0.9888888888888889\n",
      "0.9866666666666667\n",
      "best_k:1\n",
      "best_score:0.9911111111111112\n",
      "best_method:distance\n"
     ]
    }
   ],
   "source": [
    "best_method = 'uniform'\n",
    "best_k=0\n",
    "best_score=0.0\n",
    "# 运用 for 循环判断哪个 k 是最好的\n",
    "for method in ['distance','uniform']:\n",
    "    for i in range(1,5):\n",
    "        knn_clf = KNeighborsClassifier(n_neighbors=i,weights=method)\n",
    "        knn_clf.fit(X_train,y_train)\n",
    "        score = knn_clf.score(X_test,y_test)\n",
    "        print(str(score))\n",
    "        if score > best_score:\n",
    "            best_score = score\n",
    "            best_k = i\n",
    "            best_method = method\n",
    "print(\"best_k:\"+str(best_k))\n",
    "print(\"best_score:\" + str(best_score))\n",
    "print(\"best_method:\" + str(best_method))"
   ]
  },
  {
   "cell_type": "markdown",
   "metadata": {},
   "source": [
    "### 明科夫斯基距离 p\n",
    "见链接 https://blog.csdn.net/xiaoduan_/article/details/79327781\n",
    "在测试过程中比较费时\n",
    "<br>这个参数在 weight = distance 的时候才有意义"
   ]
  },
  {
   "cell_type": "code",
   "execution_count": 41,
   "metadata": {},
   "outputs": [
    {
     "name": "stdout",
     "output_type": "stream",
     "text": [
      "0.9844444444444445\n",
      "0.9888888888888889\n",
      "0.9888888888888889\n",
      "0.9866666666666667\n",
      "0.9844444444444445\n",
      "0.9888888888888889\n",
      "0.9888888888888889\n",
      "0.9866666666666667\n",
      "0.9844444444444445\n",
      "0.9888888888888889\n",
      "0.9888888888888889\n",
      "0.9866666666666667\n",
      "0.9844444444444445\n",
      "0.9888888888888889\n",
      "0.9888888888888889\n",
      "0.9866666666666667\n",
      "best_k:4\n",
      "best_score:0.9888888888888889\n",
      "best_p:2\n"
     ]
    }
   ],
   "source": [
    "best_p = 0\n",
    "best_k=0\n",
    "best_score=0.0\n",
    "# 运用 for 循环判断哪个 k 是最好的\n",
    "\n",
    "for p in range(1,5):\n",
    "    for p in range(1,5):\n",
    "        knn_clf = KNeighborsClassifier(n_neighbors=i,weights='distance',p = p)\n",
    "        knn_clf.fit(X_train,y_train)\n",
    "        score = knn_clf.score(X_test,y_test)\n",
    "        print(str(score))\n",
    "        if score > best_score:\n",
    "            best_score = score\n",
    "            best_k = i\n",
    "            best_p = p\n",
    "print(\"best_k:\"+str(best_k))\n",
    "print(\"best_score:\" + str(best_score))\n",
    "print(\"best_p:\" + str(best_p))"
   ]
  }
 ],
 "metadata": {
  "kernelspec": {
   "display_name": "Python 3",
   "language": "python",
   "name": "python3"
  },
  "language_info": {
   "codemirror_mode": {
    "name": "ipython",
    "version": 3
   },
   "file_extension": ".py",
   "mimetype": "text/x-python",
   "name": "python",
   "nbconvert_exporter": "python",
   "pygments_lexer": "ipython3",
   "version": "3.7.4"
  }
 },
 "nbformat": 4,
 "nbformat_minor": 2
}
